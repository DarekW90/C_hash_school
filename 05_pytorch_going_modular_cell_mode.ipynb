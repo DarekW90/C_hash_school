{
  "cells": [
    {
      "cell_type": "markdown",
      "metadata": {
        "id": "view-in-github",
        "colab_type": "text"
      },
      "source": [
        "<a href=\"https://colab.research.google.com/github/DarekW90/C_hash_school/blob/main/05_pytorch_going_modular_cell_mode.ipynb\" target=\"_parent\"><img src=\"https://colab.research.google.com/assets/colab-badge.svg\" alt=\"Open In Colab\"/></a>"
      ]
    },
    {
      "cell_type": "markdown",
      "id": "ea0a5cba",
      "metadata": {
        "id": "ea0a5cba",
        "papermill": {
          "duration": 0.01009,
          "end_time": "2024-01-28T13:54:29.310757",
          "exception": false,
          "start_time": "2024-01-28T13:54:29.300667",
          "status": "completed"
        },
        "tags": []
      },
      "source": [
        "# 05. Going Modular: Part 1 (cell mode)\n",
        "\n",
        "This notebook is part 1/2 of section [05. Going Modular](https://www.learnpytorch.io/05_pytorch_going_modular/).\n",
        "\n",
        "For reference, the two parts are:\n",
        "1. [**05. Going Modular: Part 1 (cell mode)**](https://github.com/mrdbourke/pytorch-deep-learning/blob/main/going_modular/05_pytorch_going_modular_cell_mode.ipynb) - this notebook is run as a traditional Jupyter Notebook/Google Colab notebook and is a condensed version of [notebook 04](https://www.learnpytorch.io/04_pytorch_custom_datasets/).\n",
        "2. [**05. Going Modular: Part 2 (script mode)**](https://github.com/mrdbourke/pytorch-deep-learning/blob/main/going_modular/05_pytorch_going_modular_script_mode.ipynb) - this notebook is the same as number 1 but with added functionality to turn each of the major sections into Python scripts, such as, `data_setup.py` and `train.py`.\n",
        "\n",
        "Why two parts?\n",
        "\n",
        "Because sometimes the best way to learn something is to see how it *differs* from something else.\n",
        "\n",
        "If you run each notebook side-by-side you'll see how they differ and that's where the key learnings are."
      ]
    },
    {
      "cell_type": "markdown",
      "id": "0e115ffd",
      "metadata": {
        "id": "0e115ffd",
        "papermill": {
          "duration": 0.008886,
          "end_time": "2024-01-28T13:54:29.328868",
          "exception": false,
          "start_time": "2024-01-28T13:54:29.319982",
          "status": "completed"
        },
        "tags": []
      },
      "source": [
        "## What is cell mode?\n",
        "\n",
        "A cell mode notebook is a regular notebook run exactly how we've been running them through the course.\n",
        "\n",
        "Some cells contain text and others contain code."
      ]
    },
    {
      "cell_type": "markdown",
      "id": "381021a1",
      "metadata": {
        "id": "381021a1",
        "papermill": {
          "duration": 0.00878,
          "end_time": "2024-01-28T13:54:29.346742",
          "exception": false,
          "start_time": "2024-01-28T13:54:29.337962",
          "status": "completed"
        },
        "tags": []
      },
      "source": [
        "## What's the difference between this notebook (Part 1) and the script mode notebook (Part 2)?\n",
        "\n",
        "This notebook, 05. PyTorch Going Modular: Part 1 (cell mode), runs a cleaned up version of the most useful code from section [04. PyTorch Custom Datasets](https://www.learnpytorch.io/04_pytorch_custom_datasets/).\n",
        "\n",
        "Running this notebook end-to-end will result in recreating the image classification model we built in notebook 04 (TinyVGG) trained on images of pizza, steak and sushi.\n",
        "\n",
        "The main difference between this notebook (Part 1) and Part 2 is that each section in Part 2 (script mode) has an extra subsection (e.g. 2.1, 3.1, 4.1) for turning cell code into script code."
      ]
    },
    {
      "cell_type": "markdown",
      "id": "a1ad8a27",
      "metadata": {
        "id": "a1ad8a27",
        "papermill": {
          "duration": 0.008718,
          "end_time": "2024-01-28T13:54:29.364510",
          "exception": false,
          "start_time": "2024-01-28T13:54:29.355792",
          "status": "completed"
        },
        "tags": []
      },
      "source": [
        "## Where can you get help?\n",
        "\n",
        "You can find the book version of this section [05. PyTorch Going Modular on learnpytorch.io](https://www.learnpytorch.io/05_pytorch_going_modular/).\n",
        "\n",
        "The rest of the materials for this course [are available on GitHub](https://github.com/mrdbourke/pytorch-deep-learning).\n",
        "\n",
        "If you run into trouble, you can ask a question on the course [GitHub Discussions page](https://github.com/mrdbourke/pytorch-deep-learning/discussions).\n",
        "\n",
        "And of course, there's the [PyTorch documentation](https://pytorch.org/docs/stable/index.html) and [PyTorch developer forums](https://discuss.pytorch.org/), a very helpful place for all things PyTorch."
      ]
    },
    {
      "cell_type": "markdown",
      "id": "6ebefc88",
      "metadata": {
        "id": "6ebefc88",
        "papermill": {
          "duration": 0.008748,
          "end_time": "2024-01-28T13:54:29.382745",
          "exception": false,
          "start_time": "2024-01-28T13:54:29.373997",
          "status": "completed"
        },
        "tags": []
      },
      "source": [
        "## 0. Running a notebook in cell mode\n",
        "\n",
        "As discussed, we're going to be running this notebook normally.\n",
        "\n",
        "One cell at a time.\n",
        "\n",
        "The code is from notebook 04, however, it has been condensed down to its core functionality."
      ]
    },
    {
      "cell_type": "code",
      "execution_count": null,
      "id": "80b11c23",
      "metadata": {
        "execution": {
          "iopub.execute_input": "2024-01-28T13:54:29.403865Z",
          "iopub.status.busy": "2024-01-28T13:54:29.403323Z",
          "iopub.status.idle": "2024-01-28T13:54:29.717855Z",
          "shell.execute_reply": "2024-01-28T13:54:29.716578Z"
        },
        "papermill": {
          "duration": 0.327704,
          "end_time": "2024-01-28T13:54:29.720248",
          "exception": false,
          "start_time": "2024-01-28T13:54:29.392544",
          "status": "completed"
        },
        "tags": [],
        "id": "80b11c23"
      },
      "outputs": [],
      "source": [
        "!rm -rf models/"
      ]
    },
    {
      "cell_type": "code",
      "execution_count": null,
      "id": "0d27401f",
      "metadata": {
        "execution": {
          "iopub.execute_input": "2024-01-28T13:54:29.741005Z",
          "iopub.status.busy": "2024-01-28T13:54:29.740412Z",
          "iopub.status.idle": "2024-01-28T13:54:30.045660Z",
          "shell.execute_reply": "2024-01-28T13:54:30.044208Z"
        },
        "papermill": {
          "duration": 0.318353,
          "end_time": "2024-01-28T13:54:30.047985",
          "exception": false,
          "start_time": "2024-01-28T13:54:29.729632",
          "status": "completed"
        },
        "tags": [],
        "id": "0d27401f"
      },
      "outputs": [],
      "source": [
        "!rm -rf data/"
      ]
    },
    {
      "cell_type": "markdown",
      "id": "1526e6a4",
      "metadata": {
        "id": "1526e6a4",
        "papermill": {
          "duration": 0.00913,
          "end_time": "2024-01-28T13:54:30.066584",
          "exception": false,
          "start_time": "2024-01-28T13:54:30.057454",
          "status": "completed"
        },
        "tags": []
      },
      "source": [
        "## 1. Get data\n",
        "\n",
        "We're going to start by downloading the same data we used in [notebook 04](https://www.learnpytorch.io/04_pytorch_custom_datasets/#1-get-data), the `pizza_steak_sushi` dataset with images of pizza, steak and sushi."
      ]
    },
    {
      "cell_type": "code",
      "execution_count": null,
      "id": "297756ba",
      "metadata": {
        "execution": {
          "iopub.execute_input": "2024-01-28T13:54:30.087606Z",
          "iopub.status.busy": "2024-01-28T13:54:30.087016Z",
          "iopub.status.idle": "2024-01-28T13:54:30.677515Z",
          "shell.execute_reply": "2024-01-28T13:54:30.676366Z"
        },
        "id": "297756ba",
        "outputId": "e995b56f-cb92-4e6d-984f-18316632c07a",
        "papermill": {
          "duration": 0.603697,
          "end_time": "2024-01-28T13:54:30.679662",
          "exception": false,
          "start_time": "2024-01-28T13:54:30.075965",
          "status": "completed"
        },
        "tags": [],
        "colab": {
          "base_uri": "https://localhost:8080/"
        }
      },
      "outputs": [
        {
          "output_type": "stream",
          "name": "stdout",
          "text": [
            "Did not find data/pizza_steak_sushi directory, creating one...\n",
            "Downloading pizza, steak, sushi data...\n",
            "Unzipping pizza, steak, sushi data...\n"
          ]
        }
      ],
      "source": [
        "import os\n",
        "import zipfile\n",
        "\n",
        "from pathlib import Path\n",
        "\n",
        "import requests\n",
        "\n",
        "# Setup path to data folder\n",
        "data_path = Path(\"data/\")\n",
        "image_path = data_path / \"pizza_steak_sushi\"\n",
        "\n",
        "# If the image folder doesn't exist, download it and prepare it...\n",
        "if image_path.is_dir():\n",
        "    print(f\"{image_path} directory exists.\")\n",
        "else:\n",
        "    print(f\"Did not find {image_path} directory, creating one...\")\n",
        "    image_path.mkdir(parents=True, exist_ok=True)\n",
        "\n",
        "# Download pizza, steak, sushi data\n",
        "with open(data_path / \"pizza_steak_sushi.zip\", \"wb\") as f:\n",
        "    request = requests.get(\"https://github.com/mrdbourke/pytorch-deep-learning/raw/main/data/pizza_steak_sushi.zip\")\n",
        "    print(\"Downloading pizza, steak, sushi data...\")\n",
        "    f.write(request.content)\n",
        "\n",
        "# Unzip pizza, steak, sushi data\n",
        "with zipfile.ZipFile(data_path / \"pizza_steak_sushi.zip\", \"r\") as zip_ref:\n",
        "    print(\"Unzipping pizza, steak, sushi data...\")\n",
        "    zip_ref.extractall(image_path)\n",
        "\n",
        "# Remove zip file\n",
        "os.remove(data_path / \"pizza_steak_sushi.zip\")"
      ]
    },
    {
      "cell_type": "code",
      "execution_count": null,
      "id": "62040b9c",
      "metadata": {
        "execution": {
          "iopub.execute_input": "2024-01-28T13:54:30.700044Z",
          "iopub.status.busy": "2024-01-28T13:54:30.699694Z",
          "iopub.status.idle": "2024-01-28T13:54:30.709745Z",
          "shell.execute_reply": "2024-01-28T13:54:30.708572Z"
        },
        "id": "62040b9c",
        "outputId": "83bda406-fe86-470e-8e44-405be14db244",
        "papermill": {
          "duration": 0.022737,
          "end_time": "2024-01-28T13:54:30.711893",
          "exception": false,
          "start_time": "2024-01-28T13:54:30.689156",
          "status": "completed"
        },
        "tags": [],
        "colab": {
          "base_uri": "https://localhost:8080/"
        }
      },
      "outputs": [
        {
          "output_type": "execute_result",
          "data": {
            "text/plain": [
              "(PosixPath('data/pizza_steak_sushi/train'),\n",
              " PosixPath('data/pizza_steak_sushi/test'))"
            ]
          },
          "metadata": {},
          "execution_count": 4
        }
      ],
      "source": [
        "# Setup train and testing paths\n",
        "train_dir = image_path / \"train\"\n",
        "test_dir = image_path / \"test\"\n",
        "\n",
        "train_dir, test_dir"
      ]
    },
    {
      "cell_type": "markdown",
      "id": "0ace19c2",
      "metadata": {
        "id": "0ace19c2",
        "papermill": {
          "duration": 0.009341,
          "end_time": "2024-01-28T13:54:30.730891",
          "exception": false,
          "start_time": "2024-01-28T13:54:30.721550",
          "status": "completed"
        },
        "tags": []
      },
      "source": [
        "## 2. Create Datasets and DataLoaders\n",
        "\n",
        "Now we'll turn the image dataset into PyTorch `Dataset`'s and `DataLoader`'s."
      ]
    },
    {
      "cell_type": "code",
      "execution_count": null,
      "id": "ed9558e9",
      "metadata": {
        "execution": {
          "iopub.execute_input": "2024-01-28T13:54:30.751863Z",
          "iopub.status.busy": "2024-01-28T13:54:30.751528Z",
          "iopub.status.idle": "2024-01-28T13:54:34.730468Z",
          "shell.execute_reply": "2024-01-28T13:54:34.728749Z"
        },
        "id": "ed9558e9",
        "outputId": "274530b0-4bcc-48b0-9482-094c87e875f3",
        "papermill": {
          "duration": 3.992135,
          "end_time": "2024-01-28T13:54:34.732996",
          "exception": false,
          "start_time": "2024-01-28T13:54:30.740861",
          "status": "completed"
        },
        "tags": [],
        "colab": {
          "base_uri": "https://localhost:8080/"
        }
      },
      "outputs": [
        {
          "output_type": "stream",
          "name": "stdout",
          "text": [
            "Train data:\n",
            "Dataset ImageFolder\n",
            "    Number of datapoints: 225\n",
            "    Root location: data/pizza_steak_sushi/train\n",
            "    StandardTransform\n",
            "Transform: Compose(\n",
            "               Resize(size=(64, 64), interpolation=bilinear, max_size=None, antialias=warn)\n",
            "               ToTensor()\n",
            "           )\n",
            "Test data:\n",
            "Dataset ImageFolder\n",
            "    Number of datapoints: 75\n",
            "    Root location: data/pizza_steak_sushi/test\n",
            "    StandardTransform\n",
            "Transform: Compose(\n",
            "               Resize(size=(64, 64), interpolation=bilinear, max_size=None, antialias=warn)\n",
            "               ToTensor()\n",
            "           )\n"
          ]
        }
      ],
      "source": [
        "from torchvision import datasets, transforms\n",
        "\n",
        "# Create simple transform\n",
        "data_transform = transforms.Compose([\n",
        "    transforms.Resize((64, 64)),\n",
        "    transforms.ToTensor(),\n",
        "])\n",
        "\n",
        "# Use ImageFolder to create dataset(s)\n",
        "train_data = datasets.ImageFolder(root=train_dir, # target folder of images\n",
        "                                  transform=data_transform, # transforms to perform on data (images)\n",
        "                                  target_transform=None) # transforms to perform on labels (if necessary)\n",
        "\n",
        "test_data = datasets.ImageFolder(root=test_dir,\n",
        "                                 transform=data_transform)\n",
        "\n",
        "print(f\"Train data:\\n{train_data}\\nTest data:\\n{test_data}\")"
      ]
    },
    {
      "cell_type": "code",
      "execution_count": null,
      "id": "e61f4049",
      "metadata": {
        "execution": {
          "iopub.execute_input": "2024-01-28T13:54:34.755125Z",
          "iopub.status.busy": "2024-01-28T13:54:34.754615Z",
          "iopub.status.idle": "2024-01-28T13:54:34.761225Z",
          "shell.execute_reply": "2024-01-28T13:54:34.759949Z"
        },
        "id": "e61f4049",
        "outputId": "1f289a81-ddee-49f1-e9a3-5a26a9453ea4",
        "papermill": {
          "duration": 0.02048,
          "end_time": "2024-01-28T13:54:34.763684",
          "exception": false,
          "start_time": "2024-01-28T13:54:34.743204",
          "status": "completed"
        },
        "tags": [],
        "colab": {
          "base_uri": "https://localhost:8080/"
        }
      },
      "outputs": [
        {
          "output_type": "execute_result",
          "data": {
            "text/plain": [
              "['pizza', 'steak', 'sushi']"
            ]
          },
          "metadata": {},
          "execution_count": 6
        }
      ],
      "source": [
        "# Get class names as a list\n",
        "class_names = train_data.classes\n",
        "class_names"
      ]
    },
    {
      "cell_type": "code",
      "execution_count": null,
      "id": "c2205a0f",
      "metadata": {
        "execution": {
          "iopub.execute_input": "2024-01-28T13:54:34.785210Z",
          "iopub.status.busy": "2024-01-28T13:54:34.784819Z",
          "iopub.status.idle": "2024-01-28T13:54:34.790222Z",
          "shell.execute_reply": "2024-01-28T13:54:34.789200Z"
        },
        "id": "c2205a0f",
        "outputId": "ed44a074-6e15-4f1c-f2f5-5a98e2ccbde6",
        "papermill": {
          "duration": 0.018922,
          "end_time": "2024-01-28T13:54:34.792519",
          "exception": false,
          "start_time": "2024-01-28T13:54:34.773597",
          "status": "completed"
        },
        "tags": [],
        "colab": {
          "base_uri": "https://localhost:8080/"
        }
      },
      "outputs": [
        {
          "output_type": "execute_result",
          "data": {
            "text/plain": [
              "{'pizza': 0, 'steak': 1, 'sushi': 2}"
            ]
          },
          "metadata": {},
          "execution_count": 7
        }
      ],
      "source": [
        "# Can also get class names as a dict\n",
        "class_dict = train_data.class_to_idx\n",
        "class_dict"
      ]
    },
    {
      "cell_type": "code",
      "execution_count": null,
      "id": "b0bd3aeb",
      "metadata": {
        "execution": {
          "iopub.execute_input": "2024-01-28T13:54:34.814082Z",
          "iopub.status.busy": "2024-01-28T13:54:34.813700Z",
          "iopub.status.idle": "2024-01-28T13:54:34.819558Z",
          "shell.execute_reply": "2024-01-28T13:54:34.818151Z"
        },
        "id": "b0bd3aeb",
        "outputId": "e22f3849-fd50-4204-e6bb-e56b3281f37e",
        "papermill": {
          "duration": 0.019616,
          "end_time": "2024-01-28T13:54:34.821981",
          "exception": false,
          "start_time": "2024-01-28T13:54:34.802365",
          "status": "completed"
        },
        "tags": [],
        "colab": {
          "base_uri": "https://localhost:8080/"
        }
      },
      "outputs": [
        {
          "output_type": "execute_result",
          "data": {
            "text/plain": [
              "(225, 75)"
            ]
          },
          "metadata": {},
          "execution_count": 8
        }
      ],
      "source": [
        "# Check the lengths\n",
        "len(train_data), len(test_data)"
      ]
    },
    {
      "cell_type": "code",
      "execution_count": null,
      "id": "58175d2a",
      "metadata": {
        "execution": {
          "iopub.execute_input": "2024-01-28T13:54:34.844378Z",
          "iopub.status.busy": "2024-01-28T13:54:34.844015Z",
          "iopub.status.idle": "2024-01-28T13:54:34.851230Z",
          "shell.execute_reply": "2024-01-28T13:54:34.850416Z"
        },
        "id": "58175d2a",
        "outputId": "77afc7a4-0146-47b5-b33e-a306214b77f0",
        "papermill": {
          "duration": 0.020295,
          "end_time": "2024-01-28T13:54:34.852830",
          "exception": false,
          "start_time": "2024-01-28T13:54:34.832535",
          "status": "completed"
        },
        "tags": [],
        "colab": {
          "base_uri": "https://localhost:8080/"
        }
      },
      "outputs": [
        {
          "output_type": "execute_result",
          "data": {
            "text/plain": [
              "(<torch.utils.data.dataloader.DataLoader at 0x7b6ad541ace0>,\n",
              " <torch.utils.data.dataloader.DataLoader at 0x7b6ad541ad70>)"
            ]
          },
          "metadata": {},
          "execution_count": 9
        }
      ],
      "source": [
        "# Turn train and test Datasets into DataLoaders\n",
        "from torch.utils.data import DataLoader\n",
        "train_dataloader = DataLoader(dataset=train_data,\n",
        "                              batch_size=1, # how many samples per batch?\n",
        "                              num_workers=1, # how many subprocesses to use for data loading? (higher = more)\n",
        "                              shuffle=True) # shuffle the data?\n",
        "\n",
        "test_dataloader = DataLoader(dataset=test_data,\n",
        "                             batch_size=1,\n",
        "                             num_workers=1,\n",
        "                             shuffle=False) # don't usually need to shuffle testing data\n",
        "\n",
        "train_dataloader, test_dataloader"
      ]
    },
    {
      "cell_type": "code",
      "execution_count": null,
      "id": "cdb4a83e",
      "metadata": {
        "execution": {
          "iopub.execute_input": "2024-01-28T13:54:34.930975Z",
          "iopub.status.busy": "2024-01-28T13:54:34.930583Z",
          "iopub.status.idle": "2024-01-28T13:54:35.095418Z",
          "shell.execute_reply": "2024-01-28T13:54:35.094404Z"
        },
        "id": "cdb4a83e",
        "outputId": "2e1c702e-1628-4a2e-8822-581943f440e0",
        "papermill": {
          "duration": 0.234864,
          "end_time": "2024-01-28T13:54:35.097774",
          "exception": false,
          "start_time": "2024-01-28T13:54:34.862910",
          "status": "completed"
        },
        "tags": [],
        "colab": {
          "base_uri": "https://localhost:8080/"
        }
      },
      "outputs": [
        {
          "output_type": "stream",
          "name": "stdout",
          "text": [
            "Image shape: torch.Size([1, 3, 64, 64]) -> [batch_size, color_channels, height, width]\n",
            "Label shape: torch.Size([1])\n"
          ]
        }
      ],
      "source": [
        "# Check out single image size/shape\n",
        "img, label = next(iter(train_dataloader))\n",
        "\n",
        "# Batch size will now be 1, try changing the batch_size parameter above and see what happens\n",
        "print(f\"Image shape: {img.shape} -> [batch_size, color_channels, height, width]\")\n",
        "print(f\"Label shape: {label.shape}\")"
      ]
    },
    {
      "cell_type": "markdown",
      "id": "f81027b4",
      "metadata": {
        "papermill": {
          "duration": 0.010612,
          "end_time": "2024-01-28T13:54:35.119476",
          "exception": false,
          "start_time": "2024-01-28T13:54:35.108864",
          "status": "completed"
        },
        "tags": [],
        "id": "f81027b4"
      },
      "source": [
        "### 2.1 Create Datasets and DataLoaders (script mode)\n",
        "\n",
        "Let's use the Jupyter magic function to create a `.py` fire for creating DataLoaders.\n",
        "\n",
        "We can save a code cell's contents to a file using the Jupyter magic `%%writefile filename`"
      ]
    },
    {
      "cell_type": "code",
      "execution_count": null,
      "id": "5da40bca",
      "metadata": {
        "execution": {
          "iopub.execute_input": "2024-01-28T13:54:35.142684Z",
          "iopub.status.busy": "2024-01-28T13:54:35.141795Z",
          "iopub.status.idle": "2024-01-28T13:54:35.146585Z",
          "shell.execute_reply": "2024-01-28T13:54:35.145520Z"
        },
        "papermill": {
          "duration": 0.018796,
          "end_time": "2024-01-28T13:54:35.148792",
          "exception": false,
          "start_time": "2024-01-28T13:54:35.129996",
          "status": "completed"
        },
        "tags": [],
        "id": "5da40bca"
      },
      "outputs": [],
      "source": [
        "# Create a directory going_modular scripts\n",
        "import os\n",
        "\n",
        "os.makedirs(\"going_modular\")"
      ]
    },
    {
      "cell_type": "code",
      "execution_count": null,
      "id": "7f960610",
      "metadata": {
        "execution": {
          "iopub.execute_input": "2024-01-28T13:54:35.171156Z",
          "iopub.status.busy": "2024-01-28T13:54:35.170757Z",
          "iopub.status.idle": "2024-01-28T13:54:35.177662Z",
          "shell.execute_reply": "2024-01-28T13:54:35.176772Z"
        },
        "papermill": {
          "duration": 0.020439,
          "end_time": "2024-01-28T13:54:35.179534",
          "exception": false,
          "start_time": "2024-01-28T13:54:35.159095",
          "status": "completed"
        },
        "tags": [],
        "id": "7f960610",
        "outputId": "cdd564f0-a970-45ee-e459-9d50e4ba805c",
        "colab": {
          "base_uri": "https://localhost:8080/"
        }
      },
      "outputs": [
        {
          "output_type": "stream",
          "name": "stdout",
          "text": [
            "Writing going_modular/data_setup.py\n"
          ]
        }
      ],
      "source": [
        "%%writefile going_modular/data_setup.py\n",
        "  \"\"\"\n",
        "  Contains functionality for creating PyTorch DataLoader's for image classification data.\n",
        "  \"\"\"\n",
        "  import os\n",
        "\n",
        "  from torchvision import datasets, transforms\n",
        "  from torch.utils.data import DataLoader\n",
        "\n",
        "  NUM_WORKERS = os.cpu_count()\n",
        "\n",
        "  def create_dataloaders(\n",
        "      train_dir: str,\n",
        "      test_dir: str,\n",
        "      transform: transforms.Compose,\n",
        "      batch_size: int,\n",
        "      num_workers: int=NUM_WORKERS\n",
        "  ):\n",
        "      \"\"\"\n",
        "      Creates training and testing DataLoaders.\n",
        "\n",
        "      Takes in a training directory and testing directory path and turns them into PyTorch Datasets and then into PyTorch DataLoaders.\n",
        "\n",
        "      Args:\n",
        "          train_dir: Path to training directory.\n",
        "          test_dir: Path to testing directory.\n",
        "          transform: torchvision transforms to perform on training and testing data.\n",
        "          batch_size: Number of samples per batch in each of the DataLoaders.\n",
        "          num_workers: An integer for number of workers per DataLoader.\n",
        "\n",
        "      Returns:\n",
        "          A tuple of (train_dataloader, test_dataloader, class_names).\n",
        "          Where class_names is a list of the target classes.\n",
        "          Exapmle usage:\n",
        "              train_dataloader, test_dataloader, class_names = create_dataloaders(train_dir=path/to/train_dir,\n",
        "              test_dir=path/to/test_dir,\n",
        "              transform=some_transform,\n",
        "              batch_size=32,\n",
        "              num_workers=4)\n",
        "      \"\"\"\n",
        "\n",
        "      # Use ImageFolder to create dataset(s)\n",
        "      train_data = datasets.ImageFolder(train_dir, transform=transform)\n",
        "      test_data = datasets.ImageFolder(test_dir, transform=transform)\n",
        "\n",
        "      # Get class names\n",
        "      class_names = train_data.classes\n",
        "\n",
        "      # Turn images into DataLoaders\n",
        "      train_dataloader = DataLoader(\n",
        "          train_data,\n",
        "          batch_size=batch_size,\n",
        "          shuffle=True,\n",
        "          num_workers=num_workers,\n",
        "          pin_memory=True\n",
        "          )\n",
        "\n",
        "      test_dataloader = DataLoader(\n",
        "          test_data,\n",
        "          batch_size=batch_size,\n",
        "          shuffle=False,\n",
        "          num_workers=num_workers,\n",
        "          pin_memory=True\n",
        "          )\n",
        "\n",
        "      return train_dataloader, test_dataloader, class_names"
      ]
    },
    {
      "cell_type": "code",
      "execution_count": null,
      "id": "822a6626",
      "metadata": {
        "papermill": {
          "duration": 0.010137,
          "end_time": "2024-01-28T13:54:35.200316",
          "exception": false,
          "start_time": "2024-01-28T13:54:35.190179",
          "status": "completed"
        },
        "tags": [],
        "id": "822a6626"
      },
      "outputs": [],
      "source": []
    },
    {
      "cell_type": "code",
      "execution_count": null,
      "id": "78093c9f",
      "metadata": {
        "papermill": {
          "duration": 0.010927,
          "end_time": "2024-01-28T13:54:35.221743",
          "exception": false,
          "start_time": "2024-01-28T13:54:35.210816",
          "status": "completed"
        },
        "tags": [],
        "id": "78093c9f"
      },
      "outputs": [],
      "source": []
    },
    {
      "cell_type": "markdown",
      "id": "86c2342a",
      "metadata": {
        "id": "86c2342a",
        "papermill": {
          "duration": 0.009673,
          "end_time": "2024-01-28T13:54:35.241509",
          "exception": false,
          "start_time": "2024-01-28T13:54:35.231836",
          "status": "completed"
        },
        "tags": []
      },
      "source": [
        "## 3. Making a model (TinyVGG)\n",
        "\n",
        "We're going to use the same model we used in notebook 04: TinyVGG from the CNN Explainer website.\n",
        "\n",
        "The only change here from notebook 04 is that a docstring has been added using [Google's Style Guide for Python](https://google.github.io/styleguide/pyguide.html#384-classes)."
      ]
    },
    {
      "cell_type": "code",
      "execution_count": null,
      "id": "29e495a7",
      "metadata": {
        "execution": {
          "iopub.execute_input": "2024-01-28T13:54:35.262789Z",
          "iopub.status.busy": "2024-01-28T13:54:35.262299Z",
          "iopub.status.idle": "2024-01-28T13:54:35.271007Z",
          "shell.execute_reply": "2024-01-28T13:54:35.270414Z"
        },
        "id": "29e495a7",
        "papermill": {
          "duration": 0.021839,
          "end_time": "2024-01-28T13:54:35.273032",
          "exception": false,
          "start_time": "2024-01-28T13:54:35.251193",
          "status": "completed"
        },
        "tags": []
      },
      "outputs": [],
      "source": [
        "import torch\n",
        "\n",
        "from torch import nn\n",
        "\n",
        "class TinyVGG(nn.Module):\n",
        "  \"\"\"Creates the TinyVGG architecture.\n",
        "\n",
        "  Replicates the TinyVGG architecture from the CNN explainer website in PyTorch.\n",
        "  See the original architecture here: https://poloclub.github.io/cnn-explainer/\n",
        "\n",
        "  Args:\n",
        "    input_shape: An integer indicating number of input channels.\n",
        "    hidden_units: An integer indicating number of hidden units between layers.\n",
        "    output_shape: An integer indicating number of output units.\n",
        "  \"\"\"\n",
        "  def __init__(self, input_shape: int, hidden_units: int, output_shape: int) -> None:\n",
        "      super().__init__()\n",
        "      self.conv_block_1 = nn.Sequential(\n",
        "          nn.Conv2d(in_channels=input_shape,\n",
        "                    out_channels=hidden_units,\n",
        "                    kernel_size=3, # how big is the square that's going over the image?\n",
        "                    stride=1, # default\n",
        "                    padding=0), # options = \"valid\" (no padding) or \"same\" (output has same shape as input) or int for specific number\n",
        "          nn.ReLU(),\n",
        "          nn.Conv2d(in_channels=hidden_units,\n",
        "                    out_channels=hidden_units,\n",
        "                    kernel_size=3,\n",
        "                    stride=1,\n",
        "                    padding=0),\n",
        "          nn.ReLU(),\n",
        "          nn.MaxPool2d(kernel_size=2,\n",
        "                        stride=2) # default stride value is same as kernel_size\n",
        "      )\n",
        "      self.conv_block_2 = nn.Sequential(\n",
        "          nn.Conv2d(hidden_units, hidden_units, kernel_size=3, padding=0),\n",
        "          nn.ReLU(),\n",
        "          nn.Conv2d(hidden_units, hidden_units, kernel_size=3, padding=0),\n",
        "          nn.ReLU(),\n",
        "          nn.MaxPool2d(2)\n",
        "      )\n",
        "      self.classifier = nn.Sequential(\n",
        "          nn.Flatten(),\n",
        "          # Where did this in_features shape come from?\n",
        "          # It's because each layer of our network compresses and changes the shape of our inputs data.\n",
        "          nn.Linear(in_features=hidden_units*13*13,\n",
        "                    out_features=output_shape)\n",
        "      )\n",
        "\n",
        "  def forward(self, x: torch.Tensor):\n",
        "      x = self.conv_block_1(x)\n",
        "      x = self.conv_block_2(x)\n",
        "      x = self.classifier(x)\n",
        "      return x\n",
        "      # return self.classifier(self.block_2(self.block_1(x))) # <- leverage the benefits of operator fusion"
      ]
    },
    {
      "cell_type": "code",
      "execution_count": null,
      "id": "91f91e4f",
      "metadata": {
        "execution": {
          "iopub.execute_input": "2024-01-28T13:54:35.295726Z",
          "iopub.status.busy": "2024-01-28T13:54:35.295203Z",
          "iopub.status.idle": "2024-01-28T13:54:35.309089Z",
          "shell.execute_reply": "2024-01-28T13:54:35.308007Z"
        },
        "id": "91f91e4f",
        "outputId": "b719a42c-bf9d-40bb-9dd3-67856a7ae084",
        "papermill": {
          "duration": 0.027784,
          "end_time": "2024-01-28T13:54:35.311235",
          "exception": false,
          "start_time": "2024-01-28T13:54:35.283451",
          "status": "completed"
        },
        "tags": [],
        "colab": {
          "base_uri": "https://localhost:8080/"
        }
      },
      "outputs": [
        {
          "output_type": "execute_result",
          "data": {
            "text/plain": [
              "TinyVGG(\n",
              "  (conv_block_1): Sequential(\n",
              "    (0): Conv2d(3, 10, kernel_size=(3, 3), stride=(1, 1))\n",
              "    (1): ReLU()\n",
              "    (2): Conv2d(10, 10, kernel_size=(3, 3), stride=(1, 1))\n",
              "    (3): ReLU()\n",
              "    (4): MaxPool2d(kernel_size=2, stride=2, padding=0, dilation=1, ceil_mode=False)\n",
              "  )\n",
              "  (conv_block_2): Sequential(\n",
              "    (0): Conv2d(10, 10, kernel_size=(3, 3), stride=(1, 1))\n",
              "    (1): ReLU()\n",
              "    (2): Conv2d(10, 10, kernel_size=(3, 3), stride=(1, 1))\n",
              "    (3): ReLU()\n",
              "    (4): MaxPool2d(kernel_size=2, stride=2, padding=0, dilation=1, ceil_mode=False)\n",
              "  )\n",
              "  (classifier): Sequential(\n",
              "    (0): Flatten(start_dim=1, end_dim=-1)\n",
              "    (1): Linear(in_features=1690, out_features=3, bias=True)\n",
              "  )\n",
              ")"
            ]
          },
          "metadata": {},
          "execution_count": 14
        }
      ],
      "source": [
        "import torch\n",
        "\n",
        "device = \"cuda\" if torch.cuda.is_available() else \"cpu\"\n",
        "\n",
        "# Instantiate an instance of the model\n",
        "torch.manual_seed(42)\n",
        "model_0 = TinyVGG(input_shape=3, # number of color channels (3 for RGB)\n",
        "                  hidden_units=10,\n",
        "                  output_shape=len(train_data.classes)).to(device)\n",
        "model_0"
      ]
    },
    {
      "cell_type": "markdown",
      "id": "cb6f6684",
      "metadata": {
        "id": "cb6f6684",
        "papermill": {
          "duration": 0.010281,
          "end_time": "2024-01-28T13:54:35.332092",
          "exception": false,
          "start_time": "2024-01-28T13:54:35.321811",
          "status": "completed"
        },
        "tags": []
      },
      "source": [
        "To test our model let's do a single forward pass (pass a sample batch from the training set through our model)."
      ]
    },
    {
      "cell_type": "code",
      "execution_count": null,
      "id": "c7fc296e",
      "metadata": {
        "execution": {
          "iopub.execute_input": "2024-01-28T13:54:35.354977Z",
          "iopub.status.busy": "2024-01-28T13:54:35.354624Z",
          "iopub.status.idle": "2024-01-28T13:54:35.533252Z",
          "shell.execute_reply": "2024-01-28T13:54:35.531787Z"
        },
        "id": "c7fc296e",
        "outputId": "90878eb9-b431-4e22-bfd7-18e15f23c536",
        "papermill": {
          "duration": 0.192919,
          "end_time": "2024-01-28T13:54:35.535252",
          "exception": false,
          "start_time": "2024-01-28T13:54:35.342333",
          "status": "completed"
        },
        "tags": [],
        "colab": {
          "base_uri": "https://localhost:8080/"
        }
      },
      "outputs": [
        {
          "output_type": "stream",
          "name": "stdout",
          "text": [
            "Single image shape: torch.Size([1, 3, 64, 64])\n",
            "\n",
            "Output logits:\n",
            "tensor([[ 0.0208, -0.0020,  0.0095]], device='cuda:0')\n",
            "\n",
            "Output prediction probabilities:\n",
            "tensor([[0.3371, 0.3295, 0.3333]], device='cuda:0')\n",
            "\n",
            "Output prediction label:\n",
            "tensor([0], device='cuda:0')\n",
            "\n",
            "Actual label:\n",
            "0\n"
          ]
        }
      ],
      "source": [
        "# 1. Get a batch of images and labels from the DataLoader\n",
        "img_batch, label_batch = next(iter(train_dataloader))\n",
        "\n",
        "# 2. Get a single image from the batch and unsqueeze the image so its shape fits the model\n",
        "img_single, label_single = img_batch[0].unsqueeze(dim=0), label_batch[0]\n",
        "print(f\"Single image shape: {img_single.shape}\\n\")\n",
        "\n",
        "# 3. Perform a forward pass on a single image\n",
        "model_0.eval()\n",
        "with torch.inference_mode():\n",
        "    pred = model_0(img_single.to(device))\n",
        "\n",
        "# 4. Print out what's happening and convert model logits -> pred probs -> pred label\n",
        "print(f\"Output logits:\\n{pred}\\n\")\n",
        "print(f\"Output prediction probabilities:\\n{torch.softmax(pred, dim=1)}\\n\")\n",
        "print(f\"Output prediction label:\\n{torch.argmax(torch.softmax(pred, dim=1), dim=1)}\\n\")\n",
        "print(f\"Actual label:\\n{label_single}\")"
      ]
    },
    {
      "cell_type": "markdown",
      "id": "b349ff00",
      "metadata": {
        "id": "b349ff00",
        "papermill": {
          "duration": 0.009973,
          "end_time": "2024-01-28T13:54:35.555772",
          "exception": false,
          "start_time": "2024-01-28T13:54:35.545799",
          "status": "completed"
        },
        "tags": []
      },
      "source": [
        "## 4. Creating `train_step()` and `test_step()` functions and `train()` to combine them  \n",
        "\n",
        "Rather than writing them again, we can reuse the `train_step()` and `test_step()` functions from [notebook 04](https://www.learnpytorch.io/04_pytorch_custom_datasets/#75-create-train-test-loop-functions).\n",
        "\n",
        "The same goes for the `train()` function we created.\n",
        "\n",
        "The only difference here is that these functions have had docstrings added to them in [Google's Python Functions and Methods Style Guide](https://google.github.io/styleguide/pyguide.html#383-functions-and-methods).\n",
        "\n",
        "Let's start by making `train_step()`."
      ]
    },
    {
      "cell_type": "code",
      "execution_count": null,
      "id": "5868f79d",
      "metadata": {
        "execution": {
          "iopub.execute_input": "2024-01-28T13:54:35.578561Z",
          "iopub.status.busy": "2024-01-28T13:54:35.577782Z",
          "iopub.status.idle": "2024-01-28T13:54:35.587623Z",
          "shell.execute_reply": "2024-01-28T13:54:35.586545Z"
        },
        "id": "5868f79d",
        "papermill": {
          "duration": 0.02378,
          "end_time": "2024-01-28T13:54:35.589795",
          "exception": false,
          "start_time": "2024-01-28T13:54:35.566015",
          "status": "completed"
        },
        "tags": []
      },
      "outputs": [],
      "source": [
        "from typing import Tuple\n",
        "\n",
        "def train_step(model: torch.nn.Module,\n",
        "               dataloader: torch.utils.data.DataLoader,\n",
        "               loss_fn: torch.nn.Module,\n",
        "               optimizer: torch.optim.Optimizer,\n",
        "               device: torch.device) -> Tuple[float, float]:\n",
        "  \"\"\"Trains a PyTorch model for a single epoch.\n",
        "\n",
        "  Turns a target PyTorch model to training mode and then\n",
        "  runs through all of the required training steps (forward\n",
        "  pass, loss calculation, optimizer step).\n",
        "\n",
        "  Args:\n",
        "    model: A PyTorch model to be trained.\n",
        "    dataloader: A DataLoader instance for the model to be trained on.\n",
        "    loss_fn: A PyTorch loss function to minimize.\n",
        "    optimizer: A PyTorch optimizer to help minimize the loss function.\n",
        "    device: A target device to compute on (e.g. \"cuda\" or \"cpu\").\n",
        "\n",
        "  Returns:\n",
        "    A tuple of training loss and training accuracy metrics.\n",
        "    In the form (train_loss, train_accuracy). For example:\n",
        "\n",
        "    (0.1112, 0.8743)\n",
        "  \"\"\"\n",
        "  # Put model in train mode\n",
        "  model.train()\n",
        "\n",
        "  # Setup train loss and train accuracy values\n",
        "  train_loss, train_acc = 0, 0\n",
        "\n",
        "  # Loop through data loader data batches\n",
        "  for batch, (X, y) in enumerate(dataloader):\n",
        "      # Send data to target device\n",
        "      X, y = X.to(device), y.to(device)\n",
        "\n",
        "      # 1. Forward pass\n",
        "      y_pred = model(X)\n",
        "\n",
        "      # 2. Calculate  and accumulate loss\n",
        "      loss = loss_fn(y_pred, y)\n",
        "      train_loss += loss.item()\n",
        "\n",
        "      # 3. Optimizer zero grad\n",
        "      optimizer.zero_grad()\n",
        "\n",
        "      # 4. Loss backward\n",
        "      loss.backward()\n",
        "\n",
        "      # 5. Optimizer step\n",
        "      optimizer.step()\n",
        "\n",
        "      # Calculate and accumulate accuracy metric across all batches\n",
        "      y_pred_class = torch.argmax(torch.softmax(y_pred, dim=1), dim=1)\n",
        "      train_acc += (y_pred_class == y).sum().item()/len(y_pred)\n",
        "\n",
        "  # Adjust metrics to get average loss and accuracy per batch\n",
        "  train_loss = train_loss / len(dataloader)\n",
        "  train_acc = train_acc / len(dataloader)\n",
        "  return train_loss, train_acc"
      ]
    },
    {
      "cell_type": "markdown",
      "id": "3f009cc5",
      "metadata": {
        "id": "3f009cc5",
        "papermill": {
          "duration": 0.01028,
          "end_time": "2024-01-28T13:54:35.610636",
          "exception": false,
          "start_time": "2024-01-28T13:54:35.600356",
          "status": "completed"
        },
        "tags": []
      },
      "source": [
        "Now we'll do `test_step()`."
      ]
    },
    {
      "cell_type": "code",
      "execution_count": null,
      "id": "7445914b",
      "metadata": {
        "execution": {
          "iopub.execute_input": "2024-01-28T13:54:35.633530Z",
          "iopub.status.busy": "2024-01-28T13:54:35.632502Z",
          "iopub.status.idle": "2024-01-28T13:54:35.640444Z",
          "shell.execute_reply": "2024-01-28T13:54:35.639560Z"
        },
        "id": "7445914b",
        "papermill": {
          "duration": 0.021838,
          "end_time": "2024-01-28T13:54:35.642820",
          "exception": false,
          "start_time": "2024-01-28T13:54:35.620982",
          "status": "completed"
        },
        "tags": []
      },
      "outputs": [],
      "source": [
        "def test_step(model: torch.nn.Module,\n",
        "              dataloader: torch.utils.data.DataLoader,\n",
        "              loss_fn: torch.nn.Module,\n",
        "              device: torch.device) -> Tuple[float, float]:\n",
        "  \"\"\"Tests a PyTorch model for a single epoch.\n",
        "\n",
        "  Turns a target PyTorch model to \"eval\" mode and then performs\n",
        "  a forward pass on a testing dataset.\n",
        "\n",
        "  Args:\n",
        "    model: A PyTorch model to be tested.\n",
        "    dataloader: A DataLoader instance for the model to be tested on.\n",
        "    loss_fn: A PyTorch loss function to calculate loss on the test data.\n",
        "    device: A target device to compute on (e.g. \"cuda\" or \"cpu\").\n",
        "\n",
        "  Returns:\n",
        "    A tuple of testing loss and testing accuracy metrics.\n",
        "    In the form (test_loss, test_accuracy). For example:\n",
        "\n",
        "    (0.0223, 0.8985)\n",
        "  \"\"\"\n",
        "  # Put model in eval mode\n",
        "  model.eval()\n",
        "\n",
        "  # Setup test loss and test accuracy values\n",
        "  test_loss, test_acc = 0, 0\n",
        "\n",
        "  # Turn on inference context manager\n",
        "  with torch.inference_mode():\n",
        "      # Loop through DataLoader batches\n",
        "      for batch, (X, y) in enumerate(dataloader):\n",
        "          # Send data to target device\n",
        "          X, y = X.to(device), y.to(device)\n",
        "\n",
        "          # 1. Forward pass\n",
        "          test_pred_logits = model(X)\n",
        "\n",
        "          # 2. Calculate and accumulate loss\n",
        "          loss = loss_fn(test_pred_logits, y)\n",
        "          test_loss += loss.item()\n",
        "\n",
        "          # Calculate and accumulate accuracy\n",
        "          test_pred_labels = test_pred_logits.argmax(dim=1)\n",
        "          test_acc += ((test_pred_labels == y).sum().item()/len(test_pred_labels))\n",
        "\n",
        "  # Adjust metrics to get average loss and accuracy per batch\n",
        "  test_loss = test_loss / len(dataloader)\n",
        "  test_acc = test_acc / len(dataloader)\n",
        "  return test_loss, test_acc"
      ]
    },
    {
      "cell_type": "markdown",
      "id": "44b972fd",
      "metadata": {
        "id": "44b972fd",
        "papermill": {
          "duration": 0.010737,
          "end_time": "2024-01-28T13:54:35.664432",
          "exception": false,
          "start_time": "2024-01-28T13:54:35.653695",
          "status": "completed"
        },
        "tags": []
      },
      "source": [
        "And we'll combine `train_step()` and `test_step()` into `train()`."
      ]
    },
    {
      "cell_type": "code",
      "execution_count": null,
      "id": "afd43a1d",
      "metadata": {
        "execution": {
          "iopub.execute_input": "2024-01-28T13:54:35.687801Z",
          "iopub.status.busy": "2024-01-28T13:54:35.687444Z",
          "iopub.status.idle": "2024-01-28T13:54:35.780017Z",
          "shell.execute_reply": "2024-01-28T13:54:35.779127Z"
        },
        "id": "afd43a1d",
        "papermill": {
          "duration": 0.107081,
          "end_time": "2024-01-28T13:54:35.782297",
          "exception": false,
          "start_time": "2024-01-28T13:54:35.675216",
          "status": "completed"
        },
        "tags": []
      },
      "outputs": [],
      "source": [
        "from typing import Dict, List\n",
        "\n",
        "from tqdm.auto import tqdm\n",
        "\n",
        "def train(model: torch.nn.Module,\n",
        "          train_dataloader: torch.utils.data.DataLoader,\n",
        "          test_dataloader: torch.utils.data.DataLoader,\n",
        "          optimizer: torch.optim.Optimizer,\n",
        "          loss_fn: torch.nn.Module,\n",
        "          epochs: int,\n",
        "          device: torch.device) -> Dict[str, List[float]]:\n",
        "  \"\"\"Trains and tests a PyTorch model.\n",
        "\n",
        "  Passes a target PyTorch models through train_step() and test_step()\n",
        "  functions for a number of epochs, training and testing the model\n",
        "  in the same epoch loop.\n",
        "\n",
        "  Calculates, prints and stores evaluation metrics throughout.\n",
        "\n",
        "  Args:\n",
        "    model: A PyTorch model to be trained and tested.\n",
        "    train_dataloader: A DataLoader instance for the model to be trained on.\n",
        "    test_dataloader: A DataLoader instance for the model to be tested on.\n",
        "    optimizer: A PyTorch optimizer to help minimize the loss function.\n",
        "    loss_fn: A PyTorch loss function to calculate loss on both datasets.\n",
        "    epochs: An integer indicating how many epochs to train for.\n",
        "    device: A target device to compute on (e.g. \"cuda\" or \"cpu\").\n",
        "\n",
        "  Returns:\n",
        "    A dictionary of training and testing loss as well as training and\n",
        "    testing accuracy metrics. Each metric has a value in a list for\n",
        "    each epoch.\n",
        "    In the form: {train_loss: [...],\n",
        "                  train_acc: [...],\n",
        "                  test_loss: [...],\n",
        "                  test_acc: [...]}\n",
        "    For example if training for epochs=2:\n",
        "                 {train_loss: [2.0616, 1.0537],\n",
        "                  train_acc: [0.3945, 0.3945],\n",
        "                  test_loss: [1.2641, 1.5706],\n",
        "                  test_acc: [0.3400, 0.2973]}\n",
        "  \"\"\"\n",
        "  # Create empty results dictionary\n",
        "  results = {\"train_loss\": [],\n",
        "      \"train_acc\": [],\n",
        "      \"test_loss\": [],\n",
        "      \"test_acc\": []\n",
        "  }\n",
        "\n",
        "  # Loop through training and testing steps for a number of epochs\n",
        "  for epoch in tqdm(range(epochs)):\n",
        "      train_loss, train_acc = train_step(model=model,\n",
        "                                          dataloader=train_dataloader,\n",
        "                                          loss_fn=loss_fn,\n",
        "                                          optimizer=optimizer,\n",
        "                                          device=device)\n",
        "      test_loss, test_acc = test_step(model=model,\n",
        "          dataloader=test_dataloader,\n",
        "          loss_fn=loss_fn,\n",
        "          device=device)\n",
        "\n",
        "      # Print out what's happening\n",
        "      print(\n",
        "          f\"Epoch: {epoch+1} | \"\n",
        "          f\"train_loss: {train_loss:.4f} | \"\n",
        "          f\"train_acc: {train_acc:.4f} | \"\n",
        "          f\"test_loss: {test_loss:.4f} | \"\n",
        "          f\"test_acc: {test_acc:.4f}\"\n",
        "      )\n",
        "\n",
        "      # Update results dictionary\n",
        "      results[\"train_loss\"].append(train_loss)\n",
        "      results[\"train_acc\"].append(train_acc)\n",
        "      results[\"test_loss\"].append(test_loss)\n",
        "      results[\"test_acc\"].append(test_acc)\n",
        "\n",
        "  # Return the filled results at the end of the epochs\n",
        "  return results"
      ]
    },
    {
      "cell_type": "markdown",
      "id": "b62c5030",
      "metadata": {
        "id": "b62c5030",
        "papermill": {
          "duration": 0.010597,
          "end_time": "2024-01-28T13:54:35.803978",
          "exception": false,
          "start_time": "2024-01-28T13:54:35.793381",
          "status": "completed"
        },
        "tags": []
      },
      "source": [
        "## 5. Creating a function to save the model\n",
        "\n",
        "Let's setup a function to save our model to a directory."
      ]
    },
    {
      "cell_type": "code",
      "execution_count": null,
      "id": "10056c1f",
      "metadata": {
        "execution": {
          "iopub.execute_input": "2024-01-28T13:54:35.826619Z",
          "iopub.status.busy": "2024-01-28T13:54:35.826252Z",
          "iopub.status.idle": "2024-01-28T13:54:35.833116Z",
          "shell.execute_reply": "2024-01-28T13:54:35.832152Z"
        },
        "id": "10056c1f",
        "papermill": {
          "duration": 0.021028,
          "end_time": "2024-01-28T13:54:35.835495",
          "exception": false,
          "start_time": "2024-01-28T13:54:35.814467",
          "status": "completed"
        },
        "tags": []
      },
      "outputs": [],
      "source": [
        "from pathlib import Path\n",
        "\n",
        "def save_model(model: torch.nn.Module,\n",
        "               target_dir: str,\n",
        "               model_name: str):\n",
        "  \"\"\"Saves a PyTorch model to a target directory.\n",
        "\n",
        "  Args:\n",
        "    model: A target PyTorch model to save.\n",
        "    target_dir: A directory for saving the model to.\n",
        "    model_name: A filename for the saved model. Should include\n",
        "      either \".pth\" or \".pt\" as the file extension.\n",
        "\n",
        "  Example usage:\n",
        "    save_model(model=model_0,\n",
        "               target_dir=\"models\",\n",
        "               model_name=\"05_going_modular_tingvgg_model.pth\")\n",
        "  \"\"\"\n",
        "  # Create target directory\n",
        "  target_dir_path = Path(target_dir)\n",
        "  target_dir_path.mkdir(parents=True,\n",
        "                        exist_ok=True)\n",
        "\n",
        "  # Create model save path\n",
        "  assert model_name.endswith(\".pth\") or model_name.endswith(\".pt\"), \"model_name should end with '.pt' or '.pth'\"\n",
        "  model_save_path = target_dir_path / model_name\n",
        "\n",
        "  # Save the model state_dict()\n",
        "  print(f\"[INFO] Saving model to: {model_save_path}\")\n",
        "  torch.save(obj=model.state_dict(),\n",
        "             f=model_save_path)"
      ]
    },
    {
      "cell_type": "markdown",
      "id": "b9ca4505",
      "metadata": {
        "id": "b9ca4505",
        "papermill": {
          "duration": 0.01171,
          "end_time": "2024-01-28T13:54:35.857918",
          "exception": false,
          "start_time": "2024-01-28T13:54:35.846208",
          "status": "completed"
        },
        "tags": []
      },
      "source": [
        "## 6. Train, evaluate and save the model\n",
        "\n",
        "Let's leverage the functions we've got above to train, test and save a model to file.\n"
      ]
    },
    {
      "cell_type": "code",
      "execution_count": null,
      "id": "48c3ac7e",
      "metadata": {
        "execution": {
          "iopub.execute_input": "2024-01-28T13:54:35.880651Z",
          "iopub.status.busy": "2024-01-28T13:54:35.880325Z",
          "iopub.status.idle": "2024-01-28T13:54:45.422455Z",
          "shell.execute_reply": "2024-01-28T13:54:45.421450Z"
        },
        "id": "48c3ac7e",
        "outputId": "f69a96bb-4e4a-4e85-f652-c07a1d73e281",
        "papermill": {
          "duration": 9.556604,
          "end_time": "2024-01-28T13:54:45.425123",
          "exception": false,
          "start_time": "2024-01-28T13:54:35.868519",
          "status": "completed"
        },
        "tags": [],
        "colab": {
          "base_uri": "https://localhost:8080/",
          "height": 49,
          "referenced_widgets": [
            "4c464073e02a48b7b74877fe95eb616e",
            "c10a6f5f85684cc08bbd9110b50ae070",
            "28fec744c3244466a76c8bf67ddb4431",
            "40f13fd9793a4987bdd1e73e96e8fca3",
            "c843448789414835aba7e082bfe5f7c5",
            "46e06dd98f9845178fbac81a1785a561",
            "937438ad21bd4ba28331cc88164615ed",
            "08609c0dc26f4936902496fbd5c3c7c7",
            "ecc6c2a25f3e4352acc703a483361016",
            "e25f9c6d760d4d6284ae7183016a354a",
            "852b0f0f64c3476c80b20a97e147c46a"
          ]
        }
      },
      "outputs": [
        {
          "output_type": "display_data",
          "data": {
            "text/plain": [
              "  0%|          | 0/5 [00:00<?, ?it/s]"
            ],
            "application/vnd.jupyter.widget-view+json": {
              "version_major": 2,
              "version_minor": 0,
              "model_id": "4c464073e02a48b7b74877fe95eb616e"
            }
          },
          "metadata": {}
        }
      ],
      "source": [
        "# Set random seeds\n",
        "torch.manual_seed(42)\n",
        "torch.cuda.manual_seed(42)\n",
        "\n",
        "# Set number of epochs\n",
        "NUM_EPOCHS = 5\n",
        "\n",
        "# Recreate an instance of TinyVGG\n",
        "model_0 = TinyVGG(input_shape=3, # number of color channels (3 for RGB)\n",
        "                  hidden_units=10,\n",
        "                  output_shape=len(train_data.classes)).to(device)\n",
        "\n",
        "# Setup loss function and optimizer\n",
        "loss_fn = nn.CrossEntropyLoss()\n",
        "optimizer = torch.optim.Adam(params=model_0.parameters(), lr=0.001)\n",
        "\n",
        "# Start the timer\n",
        "from timeit import default_timer as timer\n",
        "start_time = timer()\n",
        "\n",
        "# Train model_0\n",
        "model_0_results = train(model=model_0,\n",
        "                        train_dataloader=train_dataloader,\n",
        "                        test_dataloader=test_dataloader,\n",
        "                        optimizer=optimizer,\n",
        "                        loss_fn=loss_fn,\n",
        "                        epochs=NUM_EPOCHS,\n",
        "                        device=device)\n",
        "\n",
        "# End the timer and print out how long it took\n",
        "end_time = timer()\n",
        "print(f\"[INFO] Total training time: {end_time-start_time:.3f} seconds\")\n",
        "\n",
        "# Save the model\n",
        "save_model(model=model_0,\n",
        "           target_dir=\"models\",\n",
        "           model_name=\"05_going_modular_cell_mode_tinyvgg_model.pth\")"
      ]
    },
    {
      "cell_type": "markdown",
      "id": "905d23be",
      "metadata": {
        "papermill": {
          "duration": 0.01038,
          "end_time": "2024-01-28T13:54:45.446340",
          "exception": false,
          "start_time": "2024-01-28T13:54:45.435960",
          "status": "completed"
        },
        "tags": [],
        "id": "905d23be"
      },
      "source": [
        "We finish with a saved image classification model at `models/05_going_modular_cell_mode_tinyvgg_model.pth`.\n",
        "\n",
        "The code continues in [05. Going Modular: Part 2 (script mode)](https://github.com/mrdbourke/pytorch-deep-learning/blob/main/going_modular/05_pytorch_going_modular_script_mode.ipynb)."
      ]
    },
    {
      "cell_type": "code",
      "execution_count": null,
      "id": "b102c201",
      "metadata": {
        "papermill": {
          "duration": 0.010389,
          "end_time": "2024-01-28T13:54:45.467212",
          "exception": false,
          "start_time": "2024-01-28T13:54:45.456823",
          "status": "completed"
        },
        "tags": [],
        "id": "b102c201"
      },
      "outputs": [],
      "source": []
    }
  ],
  "metadata": {
    "colab": {
      "provenance": [],
      "include_colab_link": true
    },
    "kaggle": {
      "accelerator": "none",
      "dataSources": [],
      "dockerImageVersionId": 30635,
      "isGpuEnabled": false,
      "isInternetEnabled": true,
      "language": "python",
      "sourceType": "notebook"
    },
    "kernelspec": {
      "display_name": "Python 3",
      "name": "python3"
    },
    "language_info": {
      "codemirror_mode": {
        "name": "ipython",
        "version": 3
      },
      "file_extension": ".py",
      "mimetype": "text/x-python",
      "name": "python",
      "nbconvert_exporter": "python",
      "pygments_lexer": "ipython3",
      "version": "3.10.12"
    },
    "papermill": {
      "default_parameters": {},
      "duration": 19.721213,
      "end_time": "2024-01-28T13:54:46.299861",
      "environment_variables": {},
      "exception": null,
      "input_path": "__notebook__.ipynb",
      "output_path": "__notebook__.ipynb",
      "parameters": {},
      "start_time": "2024-01-28T13:54:26.578648",
      "version": "2.4.0"
    },
    "widgets": {
      "application/vnd.jupyter.widget-state+json": {
        "4c464073e02a48b7b74877fe95eb616e": {
          "model_module": "@jupyter-widgets/controls",
          "model_name": "HBoxModel",
          "model_module_version": "1.5.0",
          "state": {
            "_dom_classes": [],
            "_model_module": "@jupyter-widgets/controls",
            "_model_module_version": "1.5.0",
            "_model_name": "HBoxModel",
            "_view_count": null,
            "_view_module": "@jupyter-widgets/controls",
            "_view_module_version": "1.5.0",
            "_view_name": "HBoxView",
            "box_style": "",
            "children": [
              "IPY_MODEL_c10a6f5f85684cc08bbd9110b50ae070",
              "IPY_MODEL_28fec744c3244466a76c8bf67ddb4431",
              "IPY_MODEL_40f13fd9793a4987bdd1e73e96e8fca3"
            ],
            "layout": "IPY_MODEL_c843448789414835aba7e082bfe5f7c5"
          }
        },
        "c10a6f5f85684cc08bbd9110b50ae070": {
          "model_module": "@jupyter-widgets/controls",
          "model_name": "HTMLModel",
          "model_module_version": "1.5.0",
          "state": {
            "_dom_classes": [],
            "_model_module": "@jupyter-widgets/controls",
            "_model_module_version": "1.5.0",
            "_model_name": "HTMLModel",
            "_view_count": null,
            "_view_module": "@jupyter-widgets/controls",
            "_view_module_version": "1.5.0",
            "_view_name": "HTMLView",
            "description": "",
            "description_tooltip": null,
            "layout": "IPY_MODEL_46e06dd98f9845178fbac81a1785a561",
            "placeholder": "​",
            "style": "IPY_MODEL_937438ad21bd4ba28331cc88164615ed",
            "value": "  0%"
          }
        },
        "28fec744c3244466a76c8bf67ddb4431": {
          "model_module": "@jupyter-widgets/controls",
          "model_name": "FloatProgressModel",
          "model_module_version": "1.5.0",
          "state": {
            "_dom_classes": [],
            "_model_module": "@jupyter-widgets/controls",
            "_model_module_version": "1.5.0",
            "_model_name": "FloatProgressModel",
            "_view_count": null,
            "_view_module": "@jupyter-widgets/controls",
            "_view_module_version": "1.5.0",
            "_view_name": "ProgressView",
            "bar_style": "",
            "description": "",
            "description_tooltip": null,
            "layout": "IPY_MODEL_08609c0dc26f4936902496fbd5c3c7c7",
            "max": 5,
            "min": 0,
            "orientation": "horizontal",
            "style": "IPY_MODEL_ecc6c2a25f3e4352acc703a483361016",
            "value": 0
          }
        },
        "40f13fd9793a4987bdd1e73e96e8fca3": {
          "model_module": "@jupyter-widgets/controls",
          "model_name": "HTMLModel",
          "model_module_version": "1.5.0",
          "state": {
            "_dom_classes": [],
            "_model_module": "@jupyter-widgets/controls",
            "_model_module_version": "1.5.0",
            "_model_name": "HTMLModel",
            "_view_count": null,
            "_view_module": "@jupyter-widgets/controls",
            "_view_module_version": "1.5.0",
            "_view_name": "HTMLView",
            "description": "",
            "description_tooltip": null,
            "layout": "IPY_MODEL_e25f9c6d760d4d6284ae7183016a354a",
            "placeholder": "​",
            "style": "IPY_MODEL_852b0f0f64c3476c80b20a97e147c46a",
            "value": " 0/5 [00:00&lt;?, ?it/s]"
          }
        },
        "c843448789414835aba7e082bfe5f7c5": {
          "model_module": "@jupyter-widgets/base",
          "model_name": "LayoutModel",
          "model_module_version": "1.2.0",
          "state": {
            "_model_module": "@jupyter-widgets/base",
            "_model_module_version": "1.2.0",
            "_model_name": "LayoutModel",
            "_view_count": null,
            "_view_module": "@jupyter-widgets/base",
            "_view_module_version": "1.2.0",
            "_view_name": "LayoutView",
            "align_content": null,
            "align_items": null,
            "align_self": null,
            "border": null,
            "bottom": null,
            "display": null,
            "flex": null,
            "flex_flow": null,
            "grid_area": null,
            "grid_auto_columns": null,
            "grid_auto_flow": null,
            "grid_auto_rows": null,
            "grid_column": null,
            "grid_gap": null,
            "grid_row": null,
            "grid_template_areas": null,
            "grid_template_columns": null,
            "grid_template_rows": null,
            "height": null,
            "justify_content": null,
            "justify_items": null,
            "left": null,
            "margin": null,
            "max_height": null,
            "max_width": null,
            "min_height": null,
            "min_width": null,
            "object_fit": null,
            "object_position": null,
            "order": null,
            "overflow": null,
            "overflow_x": null,
            "overflow_y": null,
            "padding": null,
            "right": null,
            "top": null,
            "visibility": null,
            "width": null
          }
        },
        "46e06dd98f9845178fbac81a1785a561": {
          "model_module": "@jupyter-widgets/base",
          "model_name": "LayoutModel",
          "model_module_version": "1.2.0",
          "state": {
            "_model_module": "@jupyter-widgets/base",
            "_model_module_version": "1.2.0",
            "_model_name": "LayoutModel",
            "_view_count": null,
            "_view_module": "@jupyter-widgets/base",
            "_view_module_version": "1.2.0",
            "_view_name": "LayoutView",
            "align_content": null,
            "align_items": null,
            "align_self": null,
            "border": null,
            "bottom": null,
            "display": null,
            "flex": null,
            "flex_flow": null,
            "grid_area": null,
            "grid_auto_columns": null,
            "grid_auto_flow": null,
            "grid_auto_rows": null,
            "grid_column": null,
            "grid_gap": null,
            "grid_row": null,
            "grid_template_areas": null,
            "grid_template_columns": null,
            "grid_template_rows": null,
            "height": null,
            "justify_content": null,
            "justify_items": null,
            "left": null,
            "margin": null,
            "max_height": null,
            "max_width": null,
            "min_height": null,
            "min_width": null,
            "object_fit": null,
            "object_position": null,
            "order": null,
            "overflow": null,
            "overflow_x": null,
            "overflow_y": null,
            "padding": null,
            "right": null,
            "top": null,
            "visibility": null,
            "width": null
          }
        },
        "937438ad21bd4ba28331cc88164615ed": {
          "model_module": "@jupyter-widgets/controls",
          "model_name": "DescriptionStyleModel",
          "model_module_version": "1.5.0",
          "state": {
            "_model_module": "@jupyter-widgets/controls",
            "_model_module_version": "1.5.0",
            "_model_name": "DescriptionStyleModel",
            "_view_count": null,
            "_view_module": "@jupyter-widgets/base",
            "_view_module_version": "1.2.0",
            "_view_name": "StyleView",
            "description_width": ""
          }
        },
        "08609c0dc26f4936902496fbd5c3c7c7": {
          "model_module": "@jupyter-widgets/base",
          "model_name": "LayoutModel",
          "model_module_version": "1.2.0",
          "state": {
            "_model_module": "@jupyter-widgets/base",
            "_model_module_version": "1.2.0",
            "_model_name": "LayoutModel",
            "_view_count": null,
            "_view_module": "@jupyter-widgets/base",
            "_view_module_version": "1.2.0",
            "_view_name": "LayoutView",
            "align_content": null,
            "align_items": null,
            "align_self": null,
            "border": null,
            "bottom": null,
            "display": null,
            "flex": null,
            "flex_flow": null,
            "grid_area": null,
            "grid_auto_columns": null,
            "grid_auto_flow": null,
            "grid_auto_rows": null,
            "grid_column": null,
            "grid_gap": null,
            "grid_row": null,
            "grid_template_areas": null,
            "grid_template_columns": null,
            "grid_template_rows": null,
            "height": null,
            "justify_content": null,
            "justify_items": null,
            "left": null,
            "margin": null,
            "max_height": null,
            "max_width": null,
            "min_height": null,
            "min_width": null,
            "object_fit": null,
            "object_position": null,
            "order": null,
            "overflow": null,
            "overflow_x": null,
            "overflow_y": null,
            "padding": null,
            "right": null,
            "top": null,
            "visibility": null,
            "width": null
          }
        },
        "ecc6c2a25f3e4352acc703a483361016": {
          "model_module": "@jupyter-widgets/controls",
          "model_name": "ProgressStyleModel",
          "model_module_version": "1.5.0",
          "state": {
            "_model_module": "@jupyter-widgets/controls",
            "_model_module_version": "1.5.0",
            "_model_name": "ProgressStyleModel",
            "_view_count": null,
            "_view_module": "@jupyter-widgets/base",
            "_view_module_version": "1.2.0",
            "_view_name": "StyleView",
            "bar_color": null,
            "description_width": ""
          }
        },
        "e25f9c6d760d4d6284ae7183016a354a": {
          "model_module": "@jupyter-widgets/base",
          "model_name": "LayoutModel",
          "model_module_version": "1.2.0",
          "state": {
            "_model_module": "@jupyter-widgets/base",
            "_model_module_version": "1.2.0",
            "_model_name": "LayoutModel",
            "_view_count": null,
            "_view_module": "@jupyter-widgets/base",
            "_view_module_version": "1.2.0",
            "_view_name": "LayoutView",
            "align_content": null,
            "align_items": null,
            "align_self": null,
            "border": null,
            "bottom": null,
            "display": null,
            "flex": null,
            "flex_flow": null,
            "grid_area": null,
            "grid_auto_columns": null,
            "grid_auto_flow": null,
            "grid_auto_rows": null,
            "grid_column": null,
            "grid_gap": null,
            "grid_row": null,
            "grid_template_areas": null,
            "grid_template_columns": null,
            "grid_template_rows": null,
            "height": null,
            "justify_content": null,
            "justify_items": null,
            "left": null,
            "margin": null,
            "max_height": null,
            "max_width": null,
            "min_height": null,
            "min_width": null,
            "object_fit": null,
            "object_position": null,
            "order": null,
            "overflow": null,
            "overflow_x": null,
            "overflow_y": null,
            "padding": null,
            "right": null,
            "top": null,
            "visibility": null,
            "width": null
          }
        },
        "852b0f0f64c3476c80b20a97e147c46a": {
          "model_module": "@jupyter-widgets/controls",
          "model_name": "DescriptionStyleModel",
          "model_module_version": "1.5.0",
          "state": {
            "_model_module": "@jupyter-widgets/controls",
            "_model_module_version": "1.5.0",
            "_model_name": "DescriptionStyleModel",
            "_view_count": null,
            "_view_module": "@jupyter-widgets/base",
            "_view_module_version": "1.2.0",
            "_view_name": "StyleView",
            "description_width": ""
          }
        }
      }
    }
  },
  "nbformat": 4,
  "nbformat_minor": 5
}